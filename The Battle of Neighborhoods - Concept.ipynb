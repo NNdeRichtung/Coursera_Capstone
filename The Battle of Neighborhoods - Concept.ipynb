{
 "cells": [
  {
   "cell_type": "markdown",
   "metadata": {},
   "source": [
    "# Capstone Project - The Battle of Neighborhoods"
   ]
  },
  {
   "cell_type": "markdown",
   "metadata": {},
   "source": [
    "## Finding places to build a students apartment in Berlin"
   ]
  },
  {
   "cell_type": "markdown",
   "metadata": {},
   "source": [
    "### Author: Sijie Cheng"
   ]
  },
  {
   "cell_type": "markdown",
   "metadata": {},
   "source": [
    "#### 1. Introduction"
   ]
  },
  {
   "cell_type": "markdown",
   "metadata": {},
   "source": [
    "according to statistik from study.eu, that over 150,000 students made the choice to study in Berlin, of which 15% are from abroad.\n",
    "\n",
    "For international student, one of challenges when they moving into Berlin is to find a suitable accommodation, and a student apartment, which runs by a qualified housing company, is most reliable choice. Therefor in this project, explore different neighborhoods of Berlin and find the best suitable place to build a student apartment are the main tasks.\n",
    "\n",
    "Considering simplicity only the safety and general atmosphere of the neighborhood"
   ]
  }
 ],
 "metadata": {
  "kernelspec": {
   "display_name": "Python 3",
   "language": "python",
   "name": "python3"
  },
  "language_info": {
   "codemirror_mode": {
    "name": "ipython",
    "version": 3
   },
   "file_extension": ".py",
   "mimetype": "text/x-python",
   "name": "python",
   "nbconvert_exporter": "python",
   "pygments_lexer": "ipython3",
   "version": "3.7.4"
  }
 },
 "nbformat": 4,
 "nbformat_minor": 2
}
